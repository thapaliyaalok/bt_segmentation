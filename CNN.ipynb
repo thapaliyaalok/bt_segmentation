{
 "cells": [
  {
   "cell_type": "code",
   "execution_count": 1,
   "metadata": {},
   "outputs": [],
   "source": [
    "import tensorflow as tf\n",
    "from tensorflow.keras.datasets import cifar10\n",
    "from tensorflow.keras.preprocessing.image import ImageDataGenerator\n",
    "from tensorflow.keras.models import Sequential\n",
    "from tensorflow.keras.layers import Dense, Dropout, Activation, Flatten\n",
    "from tensorflow.keras.layers import Conv2D, MaxPooling2D\n"
   ]
  },
  {
   "cell_type": "code",
   "execution_count": 2,
   "metadata": {},
   "outputs": [],
   "source": [
    "import pickle\n",
    "\n",
    "pickle_in = open(\"X.pickle\",\"rb\")\n",
    "X = pickle.load(pickle_in)\n",
    "\n",
    "pickle_in = open(\"y.pickle\",\"rb\")\n",
    "y = pickle.load(pickle_in)"
   ]
  },
  {
   "cell_type": "code",
   "execution_count": 3,
   "metadata": {},
   "outputs": [],
   "source": [
    "X = X/255.0\n",
    "\n",
    "model = Sequential()\n"
   ]
  },
  {
   "cell_type": "code",
   "execution_count": 4,
   "metadata": {},
   "outputs": [
    {
     "name": "stderr",
     "output_type": "stream",
     "text": [
      "WARNING: Logging before flag parsing goes to stderr.\n",
      "W0813 12:47:59.315669 11428 deprecation.py:506] From C:\\Users\\Yugesh\\Anaconda3\\lib\\site-packages\\tensorflow\\python\\ops\\init_ops.py:1251: calling VarianceScaling.__init__ (from tensorflow.python.ops.init_ops) with dtype is deprecated and will be removed in a future version.\n",
      "Instructions for updating:\n",
      "Call initializer instance with the dtype argument instead of passing it to the constructor\n"
     ]
    }
   ],
   "source": [
    "model.add(Conv2D(256, (3, 3), input_shape=X.shape[1:]))\n",
    "model.add(Activation('relu'))\n",
    "model.add(MaxPooling2D(pool_size=(2, 2)))"
   ]
  },
  {
   "cell_type": "code",
   "execution_count": 5,
   "metadata": {},
   "outputs": [],
   "source": [
    "model.add(Conv2D(256, (3, 3)))\n",
    "model.add(Activation('relu'))\n",
    "model.add(MaxPooling2D(pool_size=(2, 2)))\n",
    "\n",
    "model.add(Flatten())  # this converts our 3D feature maps to 1D feature vectors"
   ]
  },
  {
   "cell_type": "code",
   "execution_count": 6,
   "metadata": {},
   "outputs": [],
   "source": [
    "model.add(Dense(64))"
   ]
  },
  {
   "cell_type": "code",
   "execution_count": 7,
   "metadata": {},
   "outputs": [],
   "source": [
    "model.add(Dense(1))\n",
    "model.add(Activation('sigmoid'))"
   ]
  },
  {
   "cell_type": "code",
   "execution_count": 8,
   "metadata": {},
   "outputs": [
    {
     "name": "stderr",
     "output_type": "stream",
     "text": [
      "W0813 12:47:59.934434 11428 deprecation.py:323] From C:\\Users\\Yugesh\\Anaconda3\\lib\\site-packages\\tensorflow\\python\\ops\\nn_impl.py:180: add_dispatch_support.<locals>.wrapper (from tensorflow.python.ops.array_ops) is deprecated and will be removed in a future version.\n",
      "Instructions for updating:\n",
      "Use tf.where in 2.0, which has the same broadcast rule as np.where\n"
     ]
    }
   ],
   "source": [
    "model.compile(loss='binary_crossentropy',\n",
    "              optimizer='adam',\n",
    "              metrics=['accuracy'])"
   ]
  },
  {
   "cell_type": "code",
   "execution_count": 9,
   "metadata": {},
   "outputs": [
    {
     "name": "stdout",
     "output_type": "stream",
     "text": [
      "Train on 177 samples, validate on 76 samples\n",
      "Epoch 1/10\n",
      "177/177 [==============================] - 155s 875ms/sample - loss: 1.2809 - acc: 0.4859 - val_loss: 1.6216 - val_acc: 0.4605\n",
      "Epoch 2/10\n",
      "177/177 [==============================] - 139s 783ms/sample - loss: 1.3070 - acc: 0.5085 - val_loss: 0.8229 - val_acc: 0.7763\n",
      "Epoch 3/10\n",
      "177/177 [==============================] - 125s 705ms/sample - loss: 0.5175 - acc: 0.7910 - val_loss: 0.6189 - val_acc: 0.7763\n",
      "Epoch 4/10\n",
      "177/177 [==============================] - 113s 640ms/sample - loss: 0.4476 - acc: 0.7966 - val_loss: 0.5854 - val_acc: 0.7500\n",
      "Epoch 5/10\n",
      "177/177 [==============================] - 111s 630ms/sample - loss: 0.4370 - acc: 0.7966 - val_loss: 0.7070 - val_acc: 0.5658\n",
      "Epoch 6/10\n",
      "177/177 [==============================] - 116s 657ms/sample - loss: 0.5167 - acc: 0.7345 - val_loss: 0.6122 - val_acc: 0.7237\n",
      "Epoch 7/10\n",
      "177/177 [==============================] - 136s 769ms/sample - loss: 0.4193 - acc: 0.8362 - val_loss: 0.6000 - val_acc: 0.7500\n",
      "Epoch 8/10\n",
      "177/177 [==============================] - 158s 890ms/sample - loss: 0.4075 - acc: 0.8249 - val_loss: 0.5827 - val_acc: 0.7368\n",
      "Epoch 9/10\n",
      "177/177 [==============================] - 145s 817ms/sample - loss: 0.4157 - acc: 0.8305 - val_loss: 0.5862 - val_acc: 0.7105\n",
      "Epoch 10/10\n",
      "177/177 [==============================] - 132s 746ms/sample - loss: 0.3965 - acc: 0.8192 - val_loss: 0.6065 - val_acc: 0.7500\n"
     ]
    },
    {
     "data": {
      "text/plain": [
       "<tensorflow.python.keras.callbacks.History at 0x1f09d97fdd8>"
      ]
     },
     "execution_count": 9,
     "metadata": {},
     "output_type": "execute_result"
    }
   ],
   "source": [
    "model.fit(X, y, batch_size=164, epochs=10, validation_split=0.3)"
   ]
  },
  {
   "cell_type": "code",
   "execution_count": 10,
   "metadata": {},
   "outputs": [],
   "source": [
    "model.save('Trained.model')"
   ]
  },
  {
   "cell_type": "code",
   "execution_count": null,
   "metadata": {},
   "outputs": [],
   "source": []
  }
 ],
 "metadata": {
  "kernelspec": {
   "display_name": "Python 3",
   "language": "python",
   "name": "python3"
  },
  "language_info": {
   "codemirror_mode": {
    "name": "ipython",
    "version": 3
   },
   "file_extension": ".py",
   "mimetype": "text/x-python",
   "name": "python",
   "nbconvert_exporter": "python",
   "pygments_lexer": "ipython3",
   "version": "3.7.3"
  }
 },
 "nbformat": 4,
 "nbformat_minor": 2
}
